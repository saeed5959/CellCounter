{
 "cells": [
  {
   "cell_type": "code",
   "execution_count": 1,
   "metadata": {},
   "outputs": [],
   "source": [
    "import cv2\n",
    "import numpy as np\n",
    "import matplotlib.pyplot as plt\n",
    "import scipy\n",
    "from scipy.signal import convolve2d\n",
    "import os\n",
    "\n",
    "path = \"G:/20200323_094724.jpg\"\n",
    "#loading image\n",
    "pic1 = cv2.imread(path)\n",
    "pic2 = cv2.cvtColor(pic1, cv2.COLOR_BGR2GRAY )\n",
    "\n",
    "#threshold\n",
    "ret,thresh2 = cv2.threshold(pic2,50,255,cv2.THRESH_BINARY)\n",
    "#kernel\n",
    "kernel = np.ones((13,13),np.uint8)\n",
    "erosion = cv2.erode(thresh2,kernel,iterations=1)\n",
    "#connect component\n",
    "nb_comp,output,sizes,centroids=cv2.connectedComponentsWithStats(erosion,connectivity=4)\n",
    "\n",
    "#taking away the background\n",
    "nb_comp-=1; sizes=sizes[1:,-1]; centroids=centroids[1:,:]\n",
    "i=0\n",
    "#drawing X\n",
    "for label in range(0,np.size(sizes)):\n",
    "    if sizes[label]>5000:\n",
    "        i = i+1\n",
    "        cordinate = np.uint16(centroids[label])\n",
    "        m = pic1[cordinate[1]-200:cordinate[1]+200,cordinate[0]-200:cordinate[0]+200]\n",
    "        cv2.imwrite(os.path.abspath(\"G:/\" + str(i) + \".jpg\"),m)"
   ]
  }
 ],
 "metadata": {
  "kernelspec": {
   "display_name": "Python 3",
   "language": "python",
   "name": "python3"
  },
  "language_info": {
   "codemirror_mode": {
    "name": "ipython",
    "version": 3
   },
   "file_extension": ".py",
   "mimetype": "text/x-python",
   "name": "python",
   "nbconvert_exporter": "python",
   "pygments_lexer": "ipython3",
   "version": "3.7.3"
  }
 },
 "nbformat": 4,
 "nbformat_minor": 2
}
